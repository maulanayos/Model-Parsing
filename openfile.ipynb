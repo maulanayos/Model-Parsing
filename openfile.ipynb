{
 "cells": [
  {
   "cell_type": "code",
   "execution_count": 157,
   "metadata": {},
   "outputs": [],
   "source": [
    "import xarray as xr\n",
    "import numpy as np\n",
    "import pygrib\n",
    "import cfgrib\n",
    "import pandas as pd"
   ]
  },
  {
   "cell_type": "code",
   "execution_count": 158,
   "metadata": {},
   "outputs": [],
   "source": [
    "grbs = pygrib.open('A_YMJA70LFPW170500_C_LFPW_20231117054656_arome_indo_20231117_0000_08.grib')"
   ]
  },
  {
   "cell_type": "code",
   "execution_count": 166,
   "metadata": {},
   "outputs": [
    {
     "data": {
      "text/plain": [
       "array(['Turbulent kinetic energy', 'Specific snow water content',\n",
       "       'Specific rain water content', 'Geopotential',\n",
       "       'Geometrical height', '10 metre V wind component',\n",
       "       'Total cloud cover', 'Convective cloud cover', 'Relative humidity',\n",
       "       '201', 'Potential temperature', 'High cloud cover',\n",
       "       'Medium cloud cover', 'Pseudo-adiabatic potential temperature',\n",
       "       'Low cloud cover',\n",
       "       '10 metre eastward wind gust since previous post-processing',\n",
       "       '10 metre northward wind gust since previous post-processing',\n",
       "       '192', '2 metre temperature', 'Virtual potential temperature',\n",
       "       '199', 'Geometric vertical velocity', 'Absolute vorticity',\n",
       "       'Planetary boundary layer height', 'Hail precipitation rate',\n",
       "       'Potential vorticity', 'Visibility', 'Vertical velocity',\n",
       "       'Reflectivity', 'Pressure', 'Precipitation type', 'Divergence',\n",
       "       'Pressure reduced to MSL',\n",
       "       'Total column vertically-integrated water vapour',\n",
       "       'Brightness temperature', 'Surface pressure', '193',\n",
       "       'Convective Available Potential Energy instantaneous',\n",
       "       'Temperature', 'Snow depth water equivalent',\n",
       "       'Eastward turbulent surface stress', 'U component of wind',\n",
       "       'V component of wind', '100 metre U wind component',\n",
       "       '200 metre U wind component', 'Northward turbulent surface stress',\n",
       "       'Time integral of rain flux', '100 metre V wind component',\n",
       "       '200 metre V wind component', 'Snow precipitation rate',\n",
       "       'Graupel (snow pellets) precipitation rate',\n",
       "       'Net short wave radiation flux',\n",
       "       'Specific cloud liquid water content',\n",
       "       'Surface net solar radiation', 'Top net thermal radiation',\n",
       "       'Specific cloud ice water content',\n",
       "       'Surface net thermal radiation', 'Surface latent heat flux',\n",
       "       'Evaporation', 'Fraction of cloud cover',\n",
       "       'Surface sensible heat flux', 'Surface solar radiation downwards',\n",
       "       'Surface thermal radiation downwards',\n",
       "       'Surface net solar radiation, clear sky',\n",
       "       'Surface net thermal radiation, clear sky', '198',\n",
       "       '2 metre relative humidity', '10 metre U wind component'],\n",
       "      dtype=object)"
      ]
     },
     "execution_count": 166,
     "metadata": {},
     "output_type": "execute_result"
    }
   ],
   "source": [
    "descr = []\n",
    "for grb in grbs:\n",
    "    descr.append(str(grb).split(':'))\n",
    "df = pd.DataFrame(\n",
    "    descr, \n",
    "    columns=['id', 'name', 'unit', 'spacing', 'layer', 'level', 'hour', 'run_dt'])\n",
    "df.name.unique()"
   ]
  },
  {
   "cell_type": "code",
   "execution_count": 168,
   "metadata": {},
   "outputs": [
    {
     "data": {
      "text/plain": [
       "array([['553', 'Low cloud cover', '% (instant)', 'regular_ll', 'surface',\n",
       "        'level 0', 'fcst time 8 hrs', 'from 202311170000'],\n",
       "       ['553', 'Low cloud cover', '% (instant)', 'regular_ll', 'surface',\n",
       "        'level 0', 'fcst time 8 hrs', 'from 202311170000']], dtype=object)"
      ]
     },
     "execution_count": 168,
     "metadata": {},
     "output_type": "execute_result"
    }
   ],
   "source": [
    "df.loc[df.name == 'Low cloud cover'].values"
   ]
  },
  {
   "cell_type": "code",
   "execution_count": 172,
   "metadata": {},
   "outputs": [
    {
     "data": {
      "text/plain": [
       "553:Low cloud cover:% (instant):regular_ll:surface:level 0:fcst time 8 hrs:from 202311170000"
      ]
     },
     "execution_count": 172,
     "metadata": {},
     "output_type": "execute_result"
    }
   ],
   "source": [
    "grb = grbs[553]\n",
    "grb"
   ]
  },
  {
   "cell_type": "code",
   "execution_count": 174,
   "metadata": {},
   "outputs": [
    {
     "data": {
      "text/plain": [
       "((1201, 2601), (1201, 2601))"
      ]
     },
     "execution_count": 174,
     "metadata": {},
     "output_type": "execute_result"
    }
   ],
   "source": [
    "lats, lons = grb.latlons()\n",
    "lats.shape, lons.shape"
   ]
  },
  {
   "cell_type": "code",
   "execution_count": null,
   "metadata": {},
   "outputs": [],
   "source": [
    "lats"
   ]
  },
  {
   "cell_type": "code",
   "execution_count": 151,
   "metadata": {},
   "outputs": [
    {
     "data": {
      "text/plain": [
       "[401:Specific snow water content:kg kg**-1 (instant):regular_ll:heightAboveGround:level 2750 m:fcst time 8 hrs:from 202311170000,\n",
       " 402:Geopotential:m**2 s**-2 (instant):regular_ll:potentialVorticity:level 2e-06 K m2 kg-1 s-1:fcst time 8 hrs:from 202311170000,\n",
       " 403:2 metre relative humidity:% (instant):regular_ll:heightAboveGround:level 2 m:fcst time 8 hrs:from 202311170000,\n",
       " 404:10 metre U wind component:m s**-1 (instant):regular_ll:heightAboveGround:level 10 m:fcst time 8 hrs:from 202311170000,\n",
       " 405:201:201 (instant):regular_ll:isobaricInhPa:level 75000 Pa:fcst time 8 hrs:from 202311170000,\n",
       " 406:201:201 (instant):regular_ll:isobaricInhPa:level 80000 Pa:fcst time 8 hrs:from 202311170000,\n",
       " 407:201:201 (instant):regular_ll:isobaricInhPa:level 85000 Pa:fcst time 8 hrs:from 202311170000,\n",
       " 408:201:201 (instant):regular_ll:isobaricInhPa:level 90000 Pa:fcst time 8 hrs:from 202311170000,\n",
       " 409:201:201 (instant):regular_ll:isobaricInhPa:level 92500 Pa:fcst time 8 hrs:from 202311170000,\n",
       " 410:201:201 (instant):regular_ll:isobaricInhPa:level 95000 Pa:fcst time 8 hrs:from 202311170000,\n",
       " 411:201:201 (instant):regular_ll:isobaricInhPa:level 100000 Pa:fcst time 8 hrs:from 202311170000,\n",
       " 412:Turbulent kinetic energy:J kg**-1 (instant):regular_ll:isobaricInhPa:level 25000 Pa:fcst time 8 hrs:from 202311170000,\n",
       " 413:Turbulent kinetic energy:J kg**-1 (instant):regular_ll:isobaricInhPa:level 27500 Pa:fcst time 8 hrs:from 202311170000,\n",
       " 414:Turbulent kinetic energy:J kg**-1 (instant):regular_ll:isobaricInhPa:level 30000 Pa:fcst time 8 hrs:from 202311170000,\n",
       " 415:Turbulent kinetic energy:J kg**-1 (instant):regular_ll:isobaricInhPa:level 35000 Pa:fcst time 8 hrs:from 202311170000,\n",
       " 416:Turbulent kinetic energy:J kg**-1 (instant):regular_ll:isobaricInhPa:level 40000 Pa:fcst time 8 hrs:from 202311170000,\n",
       " 417:Turbulent kinetic energy:J kg**-1 (instant):regular_ll:isobaricInhPa:level 45000 Pa:fcst time 8 hrs:from 202311170000,\n",
       " 418:Turbulent kinetic energy:J kg**-1 (instant):regular_ll:isobaricInhPa:level 50000 Pa:fcst time 8 hrs:from 202311170000,\n",
       " 419:Turbulent kinetic energy:J kg**-1 (instant):regular_ll:isobaricInhPa:level 55000 Pa:fcst time 8 hrs:from 202311170000,\n",
       " 420:Turbulent kinetic energy:J kg**-1 (instant):regular_ll:isobaricInhPa:level 60000 Pa:fcst time 8 hrs:from 202311170000,\n",
       " 421:Turbulent kinetic energy:J kg**-1 (instant):regular_ll:isobaricInhPa:level 65000 Pa:fcst time 8 hrs:from 202311170000,\n",
       " 422:Turbulent kinetic energy:J kg**-1 (instant):regular_ll:isobaricInhPa:level 70000 Pa:fcst time 8 hrs:from 202311170000,\n",
       " 423:Turbulent kinetic energy:J kg**-1 (instant):regular_ll:isobaricInhPa:level 75000 Pa:fcst time 8 hrs:from 202311170000,\n",
       " 424:Turbulent kinetic energy:J kg**-1 (instant):regular_ll:isobaricInhPa:level 80000 Pa:fcst time 8 hrs:from 202311170000,\n",
       " 425:Turbulent kinetic energy:J kg**-1 (instant):regular_ll:isobaricInhPa:level 85000 Pa:fcst time 8 hrs:from 202311170000]"
      ]
     },
     "execution_count": 151,
     "metadata": {},
     "output_type": "execute_result"
    }
   ],
   "source": [
    "grbs.seek(400,from_what=0)\n",
    "grb1 = grbs.read(25)[0:50] # read returns a list with the next N (N=1 in this case) messages.\n",
    "grb1"
   ]
  },
  {
   "cell_type": "code",
   "execution_count": 138,
   "metadata": {},
   "outputs": [
    {
     "data": {
      "text/plain": [
       "[743:Pressure:Pa (instant):regular_ll:heightAboveGround:level 10 m:fcst time 8 hrs:from 202311170000,\n",
       " 744:Pressure:Pa (instant):regular_ll:heightAboveGround:level 20 m:fcst time 8 hrs:from 202311170000,\n",
       " 745:Pressure:Pa (instant):regular_ll:heightAboveGround:level 35 m:fcst time 8 hrs:from 202311170000,\n",
       " 746:Pressure:Pa (instant):regular_ll:heightAboveGround:level 50 m:fcst time 8 hrs:from 202311170000,\n",
       " 747:Pressure:Pa (instant):regular_ll:heightAboveGround:level 75 m:fcst time 8 hrs:from 202311170000,\n",
       " 748:Pressure:Pa (instant):regular_ll:heightAboveGround:level 100 m:fcst time 8 hrs:from 202311170000,\n",
       " 749:Pressure:Pa (instant):regular_ll:heightAboveGround:level 150 m:fcst time 8 hrs:from 202311170000,\n",
       " 750:Pressure:Pa (instant):regular_ll:heightAboveGround:level 200 m:fcst time 8 hrs:from 202311170000,\n",
       " 751:Pressure:Pa (instant):regular_ll:heightAboveGround:level 250 m:fcst time 8 hrs:from 202311170000,\n",
       " 752:Pressure:Pa (instant):regular_ll:heightAboveGround:level 375 m:fcst time 8 hrs:from 202311170000,\n",
       " 777:Pressure:Pa (instant):regular_ll:unknown:level 18 25:fcst time 8 hrs:from 202311170000,\n",
       " 781:Pressure:Pa (instant):regular_ll:heightAboveGround:level 500 m:fcst time 8 hrs:from 202311170000,\n",
       " 782:Pressure:Pa (instant):regular_ll:heightAboveGround:level 625 m:fcst time 8 hrs:from 202311170000,\n",
       " 783:Pressure:Pa (instant):regular_ll:heightAboveGround:level 750 m:fcst time 8 hrs:from 202311170000,\n",
       " 784:Pressure:Pa (instant):regular_ll:heightAboveGround:level 875 m:fcst time 8 hrs:from 202311170000,\n",
       " 785:Pressure:Pa (instant):regular_ll:heightAboveGround:level 1000 m:fcst time 8 hrs:from 202311170000,\n",
       " 786:Pressure:Pa (instant):regular_ll:heightAboveGround:level 1125 m:fcst time 8 hrs:from 202311170000,\n",
       " 787:Pressure:Pa (instant):regular_ll:heightAboveGround:level 1250 m:fcst time 8 hrs:from 202311170000,\n",
       " 788:Pressure:Pa (instant):regular_ll:heightAboveGround:level 1375 m:fcst time 8 hrs:from 202311170000,\n",
       " 789:Pressure:Pa (instant):regular_ll:heightAboveGround:level 1500 m:fcst time 8 hrs:from 202311170000,\n",
       " 790:Pressure:Pa (instant):regular_ll:heightAboveGround:level 1750 m:fcst time 8 hrs:from 202311170000,\n",
       " 791:Pressure:Pa (instant):regular_ll:heightAboveGround:level 2000 m:fcst time 8 hrs:from 202311170000,\n",
       " 792:Pressure:Pa (instant):regular_ll:heightAboveGround:level 2250 m:fcst time 8 hrs:from 202311170000,\n",
       " 793:Pressure:Pa (instant):regular_ll:heightAboveGround:level 2500 m:fcst time 8 hrs:from 202311170000,\n",
       " 794:Pressure:Pa (instant):regular_ll:heightAboveGround:level 2750 m:fcst time 8 hrs:from 202311170000,\n",
       " 795:Pressure:Pa (instant):regular_ll:heightAboveGround:level 3000 m:fcst time 8 hrs:from 202311170000]"
      ]
     },
     "execution_count": 138,
     "metadata": {},
     "output_type": "execute_result"
    }
   ],
   "source": [
    "grb = grbs.select(name='Pressure')[0:1000]\n",
    "grb"
   ]
  },
  {
   "cell_type": "code",
   "execution_count": 141,
   "metadata": {},
   "outputs": [
    {
     "data": {
      "text/plain": [
       "26"
      ]
     },
     "execution_count": 141,
     "metadata": {},
     "output_type": "execute_result"
    }
   ],
   "source": [
    "len(grb)"
   ]
  },
  {
   "cell_type": "code",
   "execution_count": 143,
   "metadata": {},
   "outputs": [
    {
     "data": {
      "text/plain": [
       "744:Pressure:Pa (instant):regular_ll:heightAboveGround:level 20 m:fcst time 8 hrs:from 202311170000"
      ]
     },
     "execution_count": 143,
     "metadata": {},
     "output_type": "execute_result"
    }
   ],
   "source": [
    "grb[1]"
   ]
  },
  {
   "cell_type": "code",
   "execution_count": null,
   "metadata": {},
   "outputs": [],
   "source": []
  }
 ],
 "metadata": {
  "kernelspec": {
   "display_name": "BACKEND",
   "language": "python",
   "name": "python3"
  },
  "language_info": {
   "codemirror_mode": {
    "name": "ipython",
    "version": 3
   },
   "file_extension": ".py",
   "mimetype": "text/x-python",
   "name": "python",
   "nbconvert_exporter": "python",
   "pygments_lexer": "ipython3",
   "version": "3.8.12"
  }
 },
 "nbformat": 4,
 "nbformat_minor": 2
}
