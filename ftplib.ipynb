{
 "cells": [
  {
   "cell_type": "code",
   "execution_count": 1,
   "metadata": {},
   "outputs": [],
   "source": [
    "import numpy as np\n",
    "import xarray as xr\n",
    "import pygrib\n",
    "from ftplib import FTP"
   ]
  },
  {
   "cell_type": "code",
   "execution_count": 2,
   "metadata": {},
   "outputs": [
    {
     "data": {
      "text/plain": [
       "'250 OK. Current directory is /MODELGFS'"
      ]
     },
     "execution_count": 2,
     "metadata": {},
     "output_type": "execute_result"
    }
   ],
   "source": [
    "ftp = FTP('172.19.3.199')\n",
    "ftp.login(user='opn', passwd='2xSehari!')\n",
    "ftp.cwd('/MODELGFS/')"
   ]
  },
  {
   "cell_type": "code",
   "execution_count": 13,
   "metadata": {},
   "outputs": [],
   "source": [
    "def grabFile():\n",
    "\n",
    "    filename = 'A_HGFE00KWBC180200_C_KWBC_20231118025949_gep22.t00z.pgrb2a.0p50.f840'\n",
    "\n",
    "    localfile = open(filename, 'wb')\n",
    "    ftp.retrbinary('RETR ' + filename, localfile.write, 1024)\n",
    "\n",
    "    ftp.quit()\n",
    "    localfile.close()"
   ]
  },
  {
   "cell_type": "code",
   "execution_count": 14,
   "metadata": {},
   "outputs": [
    {
     "ename": "AttributeError",
     "evalue": "'NoneType' object has no attribute 'sendall'",
     "output_type": "error",
     "traceback": [
      "\u001b[0;31m---------------------------------------------------------------------------\u001b[0m",
      "\u001b[0;31mAttributeError\u001b[0m                            Traceback (most recent call last)",
      "\u001b[1;32m/home/opn/script/siam-netcdf-generator/coba/tes/envyosa/ftplib.ipynb Cell 4\u001b[0m line \u001b[0;36m<cell line: 1>\u001b[0;34m()\u001b[0m\n\u001b[0;32m----> <a href='vscode-notebook-cell://ssh-remote%2B10.10.4.3/home/opn/script/siam-netcdf-generator/coba/tes/envyosa/ftplib.ipynb#W3sdnNjb2RlLXJlbW90ZQ%3D%3D?line=0'>1</a>\u001b[0m grabFile()\n",
      "\u001b[1;32m/home/opn/script/siam-netcdf-generator/coba/tes/envyosa/ftplib.ipynb Cell 4\u001b[0m line \u001b[0;36mgrabFile\u001b[0;34m()\u001b[0m\n\u001b[1;32m      <a href='vscode-notebook-cell://ssh-remote%2B10.10.4.3/home/opn/script/siam-netcdf-generator/coba/tes/envyosa/ftplib.ipynb#W3sdnNjb2RlLXJlbW90ZQ%3D%3D?line=2'>3</a>\u001b[0m filename \u001b[39m=\u001b[39m \u001b[39m'\u001b[39m\u001b[39mA_HGFE00KWBC180200_C_KWBC_20231118025949_gep22.t00z.pgrb2a.0p50.f840\u001b[39m\u001b[39m'\u001b[39m\n\u001b[1;32m      <a href='vscode-notebook-cell://ssh-remote%2B10.10.4.3/home/opn/script/siam-netcdf-generator/coba/tes/envyosa/ftplib.ipynb#W3sdnNjb2RlLXJlbW90ZQ%3D%3D?line=4'>5</a>\u001b[0m localfile \u001b[39m=\u001b[39m \u001b[39mopen\u001b[39m(filename, \u001b[39m'\u001b[39m\u001b[39mwb\u001b[39m\u001b[39m'\u001b[39m)\n\u001b[0;32m----> <a href='vscode-notebook-cell://ssh-remote%2B10.10.4.3/home/opn/script/siam-netcdf-generator/coba/tes/envyosa/ftplib.ipynb#W3sdnNjb2RlLXJlbW90ZQ%3D%3D?line=5'>6</a>\u001b[0m ftp\u001b[39m.\u001b[39;49mretrbinary(\u001b[39m'\u001b[39;49m\u001b[39mRETR \u001b[39;49m\u001b[39m'\u001b[39;49m \u001b[39m+\u001b[39;49m filename, localfile\u001b[39m.\u001b[39;49mwrite, \u001b[39m1024\u001b[39;49m)\n\u001b[1;32m      <a href='vscode-notebook-cell://ssh-remote%2B10.10.4.3/home/opn/script/siam-netcdf-generator/coba/tes/envyosa/ftplib.ipynb#W3sdnNjb2RlLXJlbW90ZQ%3D%3D?line=7'>8</a>\u001b[0m ftp\u001b[39m.\u001b[39mquit()\n\u001b[1;32m      <a href='vscode-notebook-cell://ssh-remote%2B10.10.4.3/home/opn/script/siam-netcdf-generator/coba/tes/envyosa/ftplib.ipynb#W3sdnNjb2RlLXJlbW90ZQ%3D%3D?line=8'>9</a>\u001b[0m localfile\u001b[39m.\u001b[39mclose()\n",
      "File \u001b[0;32m~/miniconda3/envs/BACKEND/lib/python3.8/ftplib.py:431\u001b[0m, in \u001b[0;36mFTP.retrbinary\u001b[0;34m(self, cmd, callback, blocksize, rest)\u001b[0m\n\u001b[1;32m    417\u001b[0m \u001b[39mdef\u001b[39;00m \u001b[39mretrbinary\u001b[39m(\u001b[39mself\u001b[39m, cmd, callback, blocksize\u001b[39m=\u001b[39m\u001b[39m8192\u001b[39m, rest\u001b[39m=\u001b[39m\u001b[39mNone\u001b[39;00m):\n\u001b[1;32m    418\u001b[0m     \u001b[39m\"\"\"Retrieve data in binary mode.  A new port is created for you.\u001b[39;00m\n\u001b[1;32m    419\u001b[0m \n\u001b[1;32m    420\u001b[0m \u001b[39m    Args:\u001b[39;00m\n\u001b[0;32m   (...)\u001b[0m\n\u001b[1;32m    429\u001b[0m \u001b[39m      The response code.\u001b[39;00m\n\u001b[1;32m    430\u001b[0m \u001b[39m    \"\"\"\u001b[39;00m\n\u001b[0;32m--> 431\u001b[0m     \u001b[39mself\u001b[39;49m\u001b[39m.\u001b[39;49mvoidcmd(\u001b[39m'\u001b[39;49m\u001b[39mTYPE I\u001b[39;49m\u001b[39m'\u001b[39;49m)\n\u001b[1;32m    432\u001b[0m     \u001b[39mwith\u001b[39;00m \u001b[39mself\u001b[39m\u001b[39m.\u001b[39mtransfercmd(cmd, rest) \u001b[39mas\u001b[39;00m conn:\n\u001b[1;32m    433\u001b[0m         \u001b[39mwhile\u001b[39;00m \u001b[39m1\u001b[39m:\n",
      "File \u001b[0;32m~/miniconda3/envs/BACKEND/lib/python3.8/ftplib.py:281\u001b[0m, in \u001b[0;36mFTP.voidcmd\u001b[0;34m(self, cmd)\u001b[0m\n\u001b[1;32m    279\u001b[0m \u001b[39mdef\u001b[39;00m \u001b[39mvoidcmd\u001b[39m(\u001b[39mself\u001b[39m, cmd):\n\u001b[1;32m    280\u001b[0m     \u001b[39m\"\"\"Send a command and expect a response beginning with '2'.\"\"\"\u001b[39;00m\n\u001b[0;32m--> 281\u001b[0m     \u001b[39mself\u001b[39;49m\u001b[39m.\u001b[39;49mputcmd(cmd)\n\u001b[1;32m    282\u001b[0m     \u001b[39mreturn\u001b[39;00m \u001b[39mself\u001b[39m\u001b[39m.\u001b[39mvoidresp()\n",
      "File \u001b[0;32m~/miniconda3/envs/BACKEND/lib/python3.8/ftplib.py:203\u001b[0m, in \u001b[0;36mFTP.putcmd\u001b[0;34m(self, line)\u001b[0m\n\u001b[1;32m    201\u001b[0m \u001b[39mdef\u001b[39;00m \u001b[39mputcmd\u001b[39m(\u001b[39mself\u001b[39m, line):\n\u001b[1;32m    202\u001b[0m     \u001b[39mif\u001b[39;00m \u001b[39mself\u001b[39m\u001b[39m.\u001b[39mdebugging: \u001b[39mprint\u001b[39m(\u001b[39m'\u001b[39m\u001b[39m*cmd*\u001b[39m\u001b[39m'\u001b[39m, \u001b[39mself\u001b[39m\u001b[39m.\u001b[39msanitize(line))\n\u001b[0;32m--> 203\u001b[0m     \u001b[39mself\u001b[39;49m\u001b[39m.\u001b[39;49mputline(line)\n",
      "File \u001b[0;32m~/miniconda3/envs/BACKEND/lib/python3.8/ftplib.py:198\u001b[0m, in \u001b[0;36mFTP.putline\u001b[0;34m(self, line)\u001b[0m\n\u001b[1;32m    196\u001b[0m \u001b[39mif\u001b[39;00m \u001b[39mself\u001b[39m\u001b[39m.\u001b[39mdebugging \u001b[39m>\u001b[39m \u001b[39m1\u001b[39m:\n\u001b[1;32m    197\u001b[0m     \u001b[39mprint\u001b[39m(\u001b[39m'\u001b[39m\u001b[39m*put*\u001b[39m\u001b[39m'\u001b[39m, \u001b[39mself\u001b[39m\u001b[39m.\u001b[39msanitize(line))\n\u001b[0;32m--> 198\u001b[0m \u001b[39mself\u001b[39;49m\u001b[39m.\u001b[39;49msock\u001b[39m.\u001b[39;49msendall(line\u001b[39m.\u001b[39mencode(\u001b[39mself\u001b[39m\u001b[39m.\u001b[39mencoding))\n",
      "\u001b[0;31mAttributeError\u001b[0m: 'NoneType' object has no attribute 'sendall'"
     ]
    }
   ],
   "source": [
    "grabFile()"
   ]
  },
  {
   "cell_type": "code",
   "execution_count": null,
   "metadata": {},
   "outputs": [],
   "source": []
  }
 ],
 "metadata": {
  "kernelspec": {
   "display_name": "BACKEND",
   "language": "python",
   "name": "python3"
  },
  "language_info": {
   "codemirror_mode": {
    "name": "ipython",
    "version": 3
   },
   "file_extension": ".py",
   "mimetype": "text/x-python",
   "name": "python",
   "nbconvert_exporter": "python",
   "pygments_lexer": "ipython3",
   "version": "3.8.12"
  }
 },
 "nbformat": 4,
 "nbformat_minor": 2
}
