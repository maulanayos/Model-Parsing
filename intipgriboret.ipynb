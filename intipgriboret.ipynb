{
 "cells": [
  {
   "cell_type": "code",
   "execution_count": 5,
   "metadata": {},
   "outputs": [],
   "source": [
    "import pandas as pd\n",
    "import numpy as np\n",
    "import xarray as xr\n",
    "import pygrib\n",
    "import datetime\n",
    "import numexpr as ne"
   ]
  },
  {
   "cell_type": "code",
   "execution_count": 4,
   "metadata": {},
   "outputs": [],
   "source": [
    "# ds = xr.open_dataset(\"gfsdowntemp/20231117t00.f001\", engine=\"cfgrib\") <<<------ GABISA"
   ]
  },
  {
   "cell_type": "code",
   "execution_count": 6,
   "metadata": {},
   "outputs": [],
   "source": [
    "grbs = pygrib.open('gfsdowntemp/20231117t00.f001')"
   ]
  },
  {
   "cell_type": "code",
   "execution_count": null,
   "metadata": {},
   "outputs": [],
   "source": [
    "descr=[]\n",
    "for grb in grbs:\n",
    "    descr.append(str(grb).split(':'))\n",
    "df = pd.DataFrame(\n",
    "    descr, \n",
    "    columns=['id', 'name', 'unit', 'spacing', 'layer', 'level', 'hour', 'run_dt'])\n",
    "df.name.unique()"
   ]
  },
  {
   "cell_type": "code",
   "execution_count": null,
   "metadata": {},
   "outputs": [],
   "source": [
    "df.loc[df.name == 'Temperature'].values"
   ]
  },
  {
   "cell_type": "code",
   "execution_count": 63,
   "metadata": {},
   "outputs": [
    {
     "data": {
      "text/plain": [
       "[1:Visibility:m (instant):regular_ll:surface:level 0:fcst time 1 hrs:from 202311170000,\n",
       " 2:Wind speed (gust):m s**-1 (instant):regular_ll:surface:level 0:fcst time 1 hrs:from 202311170000,\n",
       " 3:Geopotential height:gpm (instant):regular_ll:isobaricInhPa:level 10000 Pa:fcst time 1 hrs:from 202311170000,\n",
       " 4:Temperature:K (instant):regular_ll:isobaricInhPa:level 10000 Pa:fcst time 1 hrs:from 202311170000,\n",
       " 5:Relative humidity:% (instant):regular_ll:isobaricInhPa:level 10000 Pa:fcst time 1 hrs:from 202311170000,\n",
       " 6:Total Cloud Cover:% (instant):regular_ll:isobaricInhPa:level 10000 Pa:fcst time 1 hrs:from 202311170000,\n",
       " 7:U component of wind:m s**-1 (instant):regular_ll:isobaricInhPa:level 10000 Pa:fcst time 1 hrs:from 202311170000,\n",
       " 8:V component of wind:m s**-1 (instant):regular_ll:isobaricInhPa:level 10000 Pa:fcst time 1 hrs:from 202311170000,\n",
       " 9:Geopotential height:gpm (instant):regular_ll:isobaricInhPa:level 15000 Pa:fcst time 1 hrs:from 202311170000,\n",
       " 10:Temperature:K (instant):regular_ll:isobaricInhPa:level 15000 Pa:fcst time 1 hrs:from 202311170000,\n",
       " 11:Relative humidity:% (instant):regular_ll:isobaricInhPa:level 15000 Pa:fcst time 1 hrs:from 202311170000,\n",
       " 12:Total Cloud Cover:% (instant):regular_ll:isobaricInhPa:level 15000 Pa:fcst time 1 hrs:from 202311170000,\n",
       " 13:U component of wind:m s**-1 (instant):regular_ll:isobaricInhPa:level 15000 Pa:fcst time 1 hrs:from 202311170000,\n",
       " 14:V component of wind:m s**-1 (instant):regular_ll:isobaricInhPa:level 15000 Pa:fcst time 1 hrs:from 202311170000,\n",
       " 15:Geopotential height:gpm (instant):regular_ll:isobaricInhPa:level 20000 Pa:fcst time 1 hrs:from 202311170000,\n",
       " 16:Temperature:K (instant):regular_ll:isobaricInhPa:level 20000 Pa:fcst time 1 hrs:from 202311170000,\n",
       " 17:Relative humidity:% (instant):regular_ll:isobaricInhPa:level 20000 Pa:fcst time 1 hrs:from 202311170000,\n",
       " 18:Total Cloud Cover:% (instant):regular_ll:isobaricInhPa:level 20000 Pa:fcst time 1 hrs:from 202311170000,\n",
       " 19:U component of wind:m s**-1 (instant):regular_ll:isobaricInhPa:level 20000 Pa:fcst time 1 hrs:from 202311170000,\n",
       " 20:V component of wind:m s**-1 (instant):regular_ll:isobaricInhPa:level 20000 Pa:fcst time 1 hrs:from 202311170000,\n",
       " 21:Geopotential height:gpm (instant):regular_ll:isobaricInhPa:level 25000 Pa:fcst time 1 hrs:from 202311170000,\n",
       " 22:Temperature:K (instant):regular_ll:isobaricInhPa:level 25000 Pa:fcst time 1 hrs:from 202311170000,\n",
       " 23:Relative humidity:% (instant):regular_ll:isobaricInhPa:level 25000 Pa:fcst time 1 hrs:from 202311170000,\n",
       " 24:Total Cloud Cover:% (instant):regular_ll:isobaricInhPa:level 25000 Pa:fcst time 1 hrs:from 202311170000,\n",
       " 25:U component of wind:m s**-1 (instant):regular_ll:isobaricInhPa:level 25000 Pa:fcst time 1 hrs:from 202311170000,\n",
       " 26:V component of wind:m s**-1 (instant):regular_ll:isobaricInhPa:level 25000 Pa:fcst time 1 hrs:from 202311170000,\n",
       " 27:Geopotential height:gpm (instant):regular_ll:isobaricInhPa:level 30000 Pa:fcst time 1 hrs:from 202311170000,\n",
       " 28:Temperature:K (instant):regular_ll:isobaricInhPa:level 30000 Pa:fcst time 1 hrs:from 202311170000,\n",
       " 29:Relative humidity:% (instant):regular_ll:isobaricInhPa:level 30000 Pa:fcst time 1 hrs:from 202311170000,\n",
       " 30:Total Cloud Cover:% (instant):regular_ll:isobaricInhPa:level 30000 Pa:fcst time 1 hrs:from 202311170000,\n",
       " 31:U component of wind:m s**-1 (instant):regular_ll:isobaricInhPa:level 30000 Pa:fcst time 1 hrs:from 202311170000,\n",
       " 32:V component of wind:m s**-1 (instant):regular_ll:isobaricInhPa:level 30000 Pa:fcst time 1 hrs:from 202311170000,\n",
       " 33:Geopotential height:gpm (instant):regular_ll:isobaricInhPa:level 40000 Pa:fcst time 1 hrs:from 202311170000,\n",
       " 34:Temperature:K (instant):regular_ll:isobaricInhPa:level 40000 Pa:fcst time 1 hrs:from 202311170000,\n",
       " 35:Relative humidity:% (instant):regular_ll:isobaricInhPa:level 40000 Pa:fcst time 1 hrs:from 202311170000,\n",
       " 36:Total Cloud Cover:% (instant):regular_ll:isobaricInhPa:level 40000 Pa:fcst time 1 hrs:from 202311170000,\n",
       " 37:U component of wind:m s**-1 (instant):regular_ll:isobaricInhPa:level 40000 Pa:fcst time 1 hrs:from 202311170000,\n",
       " 38:V component of wind:m s**-1 (instant):regular_ll:isobaricInhPa:level 40000 Pa:fcst time 1 hrs:from 202311170000,\n",
       " 39:Geopotential height:gpm (instant):regular_ll:isobaricInhPa:level 50000 Pa:fcst time 1 hrs:from 202311170000,\n",
       " 40:Temperature:K (instant):regular_ll:isobaricInhPa:level 50000 Pa:fcst time 1 hrs:from 202311170000,\n",
       " 41:Relative humidity:% (instant):regular_ll:isobaricInhPa:level 50000 Pa:fcst time 1 hrs:from 202311170000,\n",
       " 42:Total Cloud Cover:% (instant):regular_ll:isobaricInhPa:level 50000 Pa:fcst time 1 hrs:from 202311170000,\n",
       " 43:U component of wind:m s**-1 (instant):regular_ll:isobaricInhPa:level 50000 Pa:fcst time 1 hrs:from 202311170000,\n",
       " 44:V component of wind:m s**-1 (instant):regular_ll:isobaricInhPa:level 50000 Pa:fcst time 1 hrs:from 202311170000,\n",
       " 45:Geopotential height:gpm (instant):regular_ll:isobaricInhPa:level 60000 Pa:fcst time 1 hrs:from 202311170000,\n",
       " 46:Temperature:K (instant):regular_ll:isobaricInhPa:level 60000 Pa:fcst time 1 hrs:from 202311170000,\n",
       " 47:Relative humidity:% (instant):regular_ll:isobaricInhPa:level 60000 Pa:fcst time 1 hrs:from 202311170000,\n",
       " 48:Total Cloud Cover:% (instant):regular_ll:isobaricInhPa:level 60000 Pa:fcst time 1 hrs:from 202311170000,\n",
       " 49:U component of wind:m s**-1 (instant):regular_ll:isobaricInhPa:level 60000 Pa:fcst time 1 hrs:from 202311170000,\n",
       " 50:V component of wind:m s**-1 (instant):regular_ll:isobaricInhPa:level 60000 Pa:fcst time 1 hrs:from 202311170000,\n",
       " 51:Geopotential height:gpm (instant):regular_ll:isobaricInhPa:level 70000 Pa:fcst time 1 hrs:from 202311170000,\n",
       " 52:Temperature:K (instant):regular_ll:isobaricInhPa:level 70000 Pa:fcst time 1 hrs:from 202311170000,\n",
       " 53:Relative humidity:% (instant):regular_ll:isobaricInhPa:level 70000 Pa:fcst time 1 hrs:from 202311170000,\n",
       " 54:Total Cloud Cover:% (instant):regular_ll:isobaricInhPa:level 70000 Pa:fcst time 1 hrs:from 202311170000,\n",
       " 55:U component of wind:m s**-1 (instant):regular_ll:isobaricInhPa:level 70000 Pa:fcst time 1 hrs:from 202311170000,\n",
       " 56:V component of wind:m s**-1 (instant):regular_ll:isobaricInhPa:level 70000 Pa:fcst time 1 hrs:from 202311170000,\n",
       " 57:Geopotential height:gpm (instant):regular_ll:isobaricInhPa:level 80000 Pa:fcst time 1 hrs:from 202311170000,\n",
       " 58:Temperature:K (instant):regular_ll:isobaricInhPa:level 80000 Pa:fcst time 1 hrs:from 202311170000,\n",
       " 59:Relative humidity:% (instant):regular_ll:isobaricInhPa:level 80000 Pa:fcst time 1 hrs:from 202311170000,\n",
       " 60:Total Cloud Cover:% (instant):regular_ll:isobaricInhPa:level 80000 Pa:fcst time 1 hrs:from 202311170000,\n",
       " 61:U component of wind:m s**-1 (instant):regular_ll:isobaricInhPa:level 80000 Pa:fcst time 1 hrs:from 202311170000,\n",
       " 62:V component of wind:m s**-1 (instant):regular_ll:isobaricInhPa:level 80000 Pa:fcst time 1 hrs:from 202311170000,\n",
       " 63:Geopotential height:gpm (instant):regular_ll:isobaricInhPa:level 85000 Pa:fcst time 1 hrs:from 202311170000,\n",
       " 64:Temperature:K (instant):regular_ll:isobaricInhPa:level 85000 Pa:fcst time 1 hrs:from 202311170000,\n",
       " 65:Relative humidity:% (instant):regular_ll:isobaricInhPa:level 85000 Pa:fcst time 1 hrs:from 202311170000,\n",
       " 66:Total Cloud Cover:% (instant):regular_ll:isobaricInhPa:level 85000 Pa:fcst time 1 hrs:from 202311170000,\n",
       " 67:U component of wind:m s**-1 (instant):regular_ll:isobaricInhPa:level 85000 Pa:fcst time 1 hrs:from 202311170000,\n",
       " 68:V component of wind:m s**-1 (instant):regular_ll:isobaricInhPa:level 85000 Pa:fcst time 1 hrs:from 202311170000,\n",
       " 69:Geopotential height:gpm (instant):regular_ll:isobaricInhPa:level 90000 Pa:fcst time 1 hrs:from 202311170000,\n",
       " 70:Temperature:K (instant):regular_ll:isobaricInhPa:level 90000 Pa:fcst time 1 hrs:from 202311170000,\n",
       " 71:Relative humidity:% (instant):regular_ll:isobaricInhPa:level 90000 Pa:fcst time 1 hrs:from 202311170000,\n",
       " 72:Total Cloud Cover:% (instant):regular_ll:isobaricInhPa:level 90000 Pa:fcst time 1 hrs:from 202311170000,\n",
       " 73:U component of wind:m s**-1 (instant):regular_ll:isobaricInhPa:level 90000 Pa:fcst time 1 hrs:from 202311170000,\n",
       " 74:V component of wind:m s**-1 (instant):regular_ll:isobaricInhPa:level 90000 Pa:fcst time 1 hrs:from 202311170000,\n",
       " 75:Geopotential height:gpm (instant):regular_ll:isobaricInhPa:level 92500 Pa:fcst time 1 hrs:from 202311170000,\n",
       " 76:Temperature:K (instant):regular_ll:isobaricInhPa:level 92500 Pa:fcst time 1 hrs:from 202311170000,\n",
       " 77:Relative humidity:% (instant):regular_ll:isobaricInhPa:level 92500 Pa:fcst time 1 hrs:from 202311170000,\n",
       " 78:Total Cloud Cover:% (instant):regular_ll:isobaricInhPa:level 92500 Pa:fcst time 1 hrs:from 202311170000,\n",
       " 79:U component of wind:m s**-1 (instant):regular_ll:isobaricInhPa:level 92500 Pa:fcst time 1 hrs:from 202311170000,\n",
       " 80:V component of wind:m s**-1 (instant):regular_ll:isobaricInhPa:level 92500 Pa:fcst time 1 hrs:from 202311170000,\n",
       " 81:Geopotential height:gpm (instant):regular_ll:isobaricInhPa:level 95000 Pa:fcst time 1 hrs:from 202311170000,\n",
       " 82:Temperature:K (instant):regular_ll:isobaricInhPa:level 95000 Pa:fcst time 1 hrs:from 202311170000,\n",
       " 83:Relative humidity:% (instant):regular_ll:isobaricInhPa:level 95000 Pa:fcst time 1 hrs:from 202311170000,\n",
       " 84:Total Cloud Cover:% (instant):regular_ll:isobaricInhPa:level 95000 Pa:fcst time 1 hrs:from 202311170000,\n",
       " 85:U component of wind:m s**-1 (instant):regular_ll:isobaricInhPa:level 95000 Pa:fcst time 1 hrs:from 202311170000,\n",
       " 86:V component of wind:m s**-1 (instant):regular_ll:isobaricInhPa:level 95000 Pa:fcst time 1 hrs:from 202311170000,\n",
       " 87:Temperature:K (instant):regular_ll:isobaricInhPa:level 100000 Pa:fcst time 1 hrs:from 202311170000,\n",
       " 88:Relative humidity:% (instant):regular_ll:isobaricInhPa:level 100000 Pa:fcst time 1 hrs:from 202311170000,\n",
       " 89:Total Cloud Cover:% (instant):regular_ll:isobaricInhPa:level 100000 Pa:fcst time 1 hrs:from 202311170000,\n",
       " 90:U component of wind:m s**-1 (instant):regular_ll:isobaricInhPa:level 100000 Pa:fcst time 1 hrs:from 202311170000,\n",
       " 91:V component of wind:m s**-1 (instant):regular_ll:isobaricInhPa:level 100000 Pa:fcst time 1 hrs:from 202311170000,\n",
       " 92:Geopotential height:gpm (instant):regular_ll:isobaricInhPa:level 100000 Pa:fcst time 1 hrs:from 202311170000,\n",
       " 93:Orography:m (instant):regular_ll:surface:level 0:fcst time 1 hrs:from 202311170000,\n",
       " 94:Temperature:K (instant):regular_ll:surface:level 0:fcst time 1 hrs:from 202311170000,\n",
       " 95:2 metre temperature:K (instant):regular_ll:heightAboveGround:level 2 m:fcst time 1 hrs:from 202311170000,\n",
       " 96:2 metre relative humidity:% (instant):regular_ll:heightAboveGround:level 2 m:fcst time 1 hrs:from 202311170000,\n",
       " 97:10 metre U wind component:m s**-1 (instant):regular_ll:heightAboveGround:level 10 m:fcst time 1 hrs:from 202311170000,\n",
       " 98:10 metre V wind component:m s**-1 (instant):regular_ll:heightAboveGround:level 10 m:fcst time 1 hrs:from 202311170000,\n",
       " 99:Precipitation rate:kg m**-2 s**-1 (instant):regular_ll:surface:level 0:fcst time 1 hrs:from 202311170000,\n",
       " 100:Precipitation rate:kg m**-2 s**-1 (avg):regular_ll:surface:level 0:fcst time 0-1 hrs (avg):from 202311170000]"
      ]
     },
     "execution_count": 63,
     "metadata": {},
     "output_type": "execute_result"
    }
   ],
   "source": [
    "grbs.seek(0)\n",
    "grb1 = grbs.read(100)[0:100] # read returns a list with the next N (N=1 in this case) messages.\n",
    "grb1"
   ]
  },
  {
   "cell_type": "code",
   "execution_count": 5,
   "metadata": {},
   "outputs": [],
   "source": [
    "def mstoknot(var):\n",
    "    return ne.evaluate('var*1.9438445')\n",
    "\n",
    "def KtodegC(var):\n",
    "    return ne.evaluate('var-273.15')\n",
    "\n",
    "def patombar(var):\n",
    "    return ne.evaluate('var*0.01')"
   ]
  },
  {
   "cell_type": "code",
   "execution_count": 8,
   "metadata": {},
   "outputs": [
    {
     "name": "stdout",
     "output_type": "stream",
     "text": [
      "[]\n"
     ]
    }
   ],
   "source": [
    "g = grbs[1]\n",
    "dtni = g.analDate + datetime.timedelta(hours = g['endStep'])\n",
    "shortnames = []\n",
    "for g in grbs:\n",
    "    if g.level not in shortnames:\n",
    "        shortnames.append(g.level)\n",
    "\n",
    "print(shortnames)"
   ]
  },
  {
   "cell_type": "code",
   "execution_count": 9,
   "metadata": {},
   "outputs": [],
   "source": [
    "levels = []\n",
    "gselz = grbs.select(shortName = 'u')\n",
    "for lev in gselz:\n",
    "     levels.append(float(lev.level))"
   ]
  },
  {
   "cell_type": "code",
   "execution_count": 10,
   "metadata": {},
   "outputs": [
    {
     "data": {
      "text/plain": [
       "[100.0,\n",
       " 150.0,\n",
       " 200.0,\n",
       " 250.0,\n",
       " 300.0,\n",
       " 400.0,\n",
       " 500.0,\n",
       " 600.0,\n",
       " 700.0,\n",
       " 800.0,\n",
       " 850.0,\n",
       " 900.0,\n",
       " 925.0,\n",
       " 950.0,\n",
       " 1000.0]"
      ]
     },
     "execution_count": 10,
     "metadata": {},
     "output_type": "execute_result"
    }
   ],
   "source": [
    "levels"
   ]
  },
  {
   "cell_type": "code",
   "execution_count": 6,
   "metadata": {},
   "outputs": [],
   "source": [
    "param2d = [['tp','rr',None,'mm'],\n",
    "           ['lftx','li',None,'index'],\n",
    "           ['cape','cape',None,'J/kg'],\n",
    "#            ['prmsl','mslp',patombar,'mbar'],\n",
    "           ['tcc','tcc',None,'percent'],\n",
    "           \n",
    "           ['10u','u10',None,'m s**-1'],\n",
    "           ['10v','v10',None,'m s**-1'],\n",
    "#            ['2d','dp2',KtodegC,'degC'],\n",
    "           ['2r','rh2',None,'%'],\n",
    "           ['2t','t2',KtodegC,'degC'],\n",
    "           \n",
    "           ]\n",
    "\n",
    "param2d = [\n",
    "    ['2r', 'rh2', None, '%'],                  # Relative humidity at 2m\n",
    "    ['2t', 't2', KtodegC, 'degC'],             # Temperature at 2m\n",
    "    ['10u', 'u10', None, 'm s**-1'],           # U-component of wind at 10m\n",
    "    ['10v', 'v10', None, 'm s**-1'],           # V-component of wind at 10m\n",
    "    ['vis', 'vis', None, 'm'],                 # Visibility\n",
    "    ['gust', 'gust', None, 'm s**-1'],         # Wind gust\n",
    "    ['prate', 'prate', None, 'kg m**-2 s**-1'],# Precipitation rate\n",
    "    ['tp', 'rr', None, 'mm'],                  # Total precipitation\n",
    "#     ['acpcp', 'acpcp', None, 'kg m**-2'],      # Accumulated convective precipitation\n",
    "    ['lftx', 'lftx', None, 'K'],               # Surface lifted index\n",
    "    ['cape', 'cape', None, 'J kg**-1'],        # Convective Available Potential Energy\n",
    "]\n",
    "\n",
    "param3d = [['u','u',None,'m s**-1'],\n",
    "           ['v','v',None,'m s**-1'],\n",
    "#            ['w','w',None,'Pa/s'],\n",
    "           ['r','rh',None,'percent'],\n",
    "           ['t','t',KtodegC,'degC'],\n",
    "#            ['absv','absv',None,'S**-1'],\n",
    "           ]\n",
    "\n",
    "param3d = [\n",
    "    ['u', 'u', None, 'm s**-1'],      # U-component of wind\n",
    "    ['v', 'v', None, 'm s**-1'],      # V-component of wind\n",
    "#     ['gh', 'gh', None, 'gpm'],        # Geopotential Height\n",
    "    ['t', 't', None, 'K'],            # Temperature\n",
    "    ['r', 'r', None, '%'],            # Relative Humidity\n",
    "    ['tcc', 'tcc', None, '%'],        # Total Cloud Cover\n",
    "]\n",
    "\n",
    "# yang ada datanya tapi ga masuk sini orog"
   ]
  },
  {
   "cell_type": "code",
   "execution_count": 78,
   "metadata": {},
   "outputs": [],
   "source": [
    "gsel = grbs.select(shortName = param2d[0][0])\n",
    "g = gsel[0]"
   ]
  },
  {
   "cell_type": "code",
   "execution_count": 83,
   "metadata": {},
   "outputs": [
    {
     "data": {
      "text/plain": [
       "96:2 metre relative humidity:% (instant):regular_ll:heightAboveGround:level 2 m:fcst time 1 hrs:from 202311170000"
      ]
     },
     "execution_count": 83,
     "metadata": {},
     "output_type": "execute_result"
    }
   ],
   "source": []
  },
  {
   "cell_type": "code",
   "execution_count": 55,
   "metadata": {},
   "outputs": [],
   "source": [
    "lat, lon = g.latlons()\n",
    "lat = lat[:,0]\n",
    "lon = lon[0,:]"
   ]
  },
  {
   "cell_type": "code",
   "execution_count": 54,
   "metadata": {},
   "outputs": [],
   "source": [
    "dt = '20231117'\n",
    "cycl = '00'\n",
    "ncout = 'gfs_%s_%s00v2.nc' % (dt,cycl)\n",
    "gfspath = 'gfsdowntemp/nctemp/'\n",
    "fo = netCDF4.Dataset( gfspath + ncout,'w')"
   ]
  },
  {
   "cell_type": "code",
   "execution_count": 56,
   "metadata": {},
   "outputs": [
    {
     "data": {
      "text/plain": [
       "<class 'netCDF4._netCDF4.Dimension'>: name = 'lon', size = 1440"
      ]
     },
     "execution_count": 56,
     "metadata": {},
     "output_type": "execute_result"
    }
   ],
   "source": [
    "fo.createDimension('time',None)\n",
    "fo.createDimension('lat',lat.size)\n",
    "fo.createDimension('lon',lon.size)"
   ]
  },
  {
   "cell_type": "code",
   "execution_count": 58,
   "metadata": {},
   "outputs": [],
   "source": [
    "dtni = g.analDate + datetime.timedelta(hours = g['endStep'])"
   ]
  },
  {
   "cell_type": "code",
   "execution_count": 59,
   "metadata": {},
   "outputs": [],
   "source": [
    "nc_lon = fo.createVariable('lon','d', ('lon'))\n",
    "nc_lat = fo.createVariable('lat','d', ('lat'))\n",
    "nc_t = fo.createVariable('time','d', ('time'))"
   ]
  },
  {
   "cell_type": "code",
   "execution_count": 61,
   "metadata": {},
   "outputs": [],
   "source": [
    "fo.setncattr('ordinal',datetime.date.toordinal(dtni))"
   ]
  },
  {
   "cell_type": "code",
   "execution_count": 62,
   "metadata": {},
   "outputs": [],
   "source": [
    "tunits = 'minutes since %s' % dtni.strftime('%Y-%m-%d %H:%M')\n",
    "nc_t.units = tunits\n",
    "\n",
    "nc_lon.units = 'degrees_east'\n",
    "nc_lat.units = 'degrees_north'\n",
    "nc_lon.long_name = 'Longitude'\n",
    "nc_lat.long_name = 'Latitude'\n",
    "\n",
    "nc_lon[:] = lon\n",
    "nc_lat[:] = lat"
   ]
  },
  {
   "cell_type": "code",
   "execution_count": 70,
   "metadata": {},
   "outputs": [
    {
     "data": {
      "text/plain": [
       "721"
      ]
     },
     "execution_count": 70,
     "metadata": {},
     "output_type": "execute_result"
    }
   ],
   "source": [
    "lat.size"
   ]
  },
  {
   "cell_type": "code",
   "execution_count": 79,
   "metadata": {},
   "outputs": [],
   "source": [
    "data = g['values']"
   ]
  },
  {
   "cell_type": "code",
   "execution_count": 89,
   "metadata": {},
   "outputs": [],
   "source": [
    "ln = g['name']"
   ]
  },
  {
   "cell_type": "code",
   "execution_count": 91,
   "metadata": {},
   "outputs": [
    {
     "data": {
      "text/plain": [
       "(721, 1440)"
      ]
     },
     "execution_count": 91,
     "metadata": {},
     "output_type": "execute_result"
    }
   ],
   "source": []
  },
  {
   "cell_type": "code",
   "execution_count": null,
   "metadata": {},
   "outputs": [],
   "source": [
    "def fno_open(outnc, gsel, dtn, hasz = False,dom = 'global'):\n",
    "    g = gsel[0]\n",
    "    \n",
    "    lat, lon = g.latlons()\n",
    "    lat = lat[:,0]\n",
    "    if dom == 'global':\n",
    "        lat = np.flip(lat,0)\n",
    "    lon = lon[0,:]\n",
    "    \n",
    "    fo = netCDF4.Dataset(outnc,'w')\n",
    "    \n",
    "    fo.createDimension('time',None)\n",
    "    fo.createDimension('lat',lat.size)\n",
    "    fo.createDimension('lon',lon.size)\n",
    "    \n",
    "    fo.setncattr('ordinal',datetime.date.toordinal(dtn))\n",
    "    \n",
    "    \n",
    "    nc_t = fo.createVariable('time','d', ('time'))\n",
    "    nc_lon = fo.createVariable('lon','d', ('lon'))\n",
    "    nc_lat = fo.createVariable('lat','d', ('lat'))\n",
    "    \n",
    "    \n",
    "    tunits = 'minutes since %s' % dtn.strftime('%Y-%m-%d %H:%M')\n",
    "    nc_t.units = tunits\n",
    "    \n",
    "    nc_lon.units = 'degrees_east'\n",
    "    nc_lat.units = 'degrees_north'\n",
    "    nc_lon.long_name = 'Longitude'\n",
    "    nc_lat.long_name = 'Latitude'\n",
    "    \n",
    "    nc_lon[:] = lon\n",
    "    nc_lat[:] = lat\n",
    "    \n",
    "    level = None\n",
    "    if hasz:\n",
    "        level = []\n",
    "        for i in range(len(gsel)):\n",
    "            level.append(gsel[i].level)\n",
    "        level = np.array(level)\n",
    "        level[::-1].sort()\n",
    "        fo.createDimension('level', len(gsel))\n",
    "        nc_level = fo.createVariable('level','d', ('level'))\n",
    "        nc_level.units = 'mbar'\n",
    "        nc_level.long_name = 'isobaric level'\n",
    "        nc_level[:] = level\n",
    "        \n",
    "    return fo, lon.size, lat.size, level"
   ]
  },
  {
   "cell_type": "code",
   "execution_count": null,
   "metadata": {},
   "outputs": [],
   "source": []
  },
  {
   "cell_type": "code",
   "execution_count": 27,
   "metadata": {},
   "outputs": [
    {
     "ename": "NameError",
     "evalue": "name 'fno_open' is not defined",
     "output_type": "error",
     "traceback": [
      "\u001b[0;31m---------------------------------------------------------------------------\u001b[0m",
      "\u001b[0;31mNameError\u001b[0m                                 Traceback (most recent call last)",
      "\u001b[1;32m/home/opn/script/siam-netcdf-generator/coba/tes/envyosa/intipgrib.ipynb Cell 8\u001b[0m line \u001b[0;36m<cell line: 3>\u001b[0;34m()\u001b[0m\n\u001b[1;32m      <a href='vscode-notebook-cell://ssh-remote%2B10.10.4.3/home/opn/script/siam-netcdf-generator/coba/tes/envyosa/intipgrib.ipynb#X15sdnNjb2RlLXJlbW90ZQ%3D%3D?line=5'>6</a>\u001b[0m     gsel \u001b[39m=\u001b[39m grbs\u001b[39m.\u001b[39mselect(shortName \u001b[39m=\u001b[39m param3d[\u001b[39m0\u001b[39m][\u001b[39m0\u001b[39m])\n\u001b[1;32m      <a href='vscode-notebook-cell://ssh-remote%2B10.10.4.3/home/opn/script/siam-netcdf-generator/coba/tes/envyosa/intipgrib.ipynb#X15sdnNjb2RlLXJlbW90ZQ%3D%3D?line=6'>7</a>\u001b[0m     hasz \u001b[39m=\u001b[39m \u001b[39mTrue\u001b[39;00m\n\u001b[0;32m----> <a href='vscode-notebook-cell://ssh-remote%2B10.10.4.3/home/opn/script/siam-netcdf-generator/coba/tes/envyosa/intipgrib.ipynb#X15sdnNjb2RlLXJlbW90ZQ%3D%3D?line=7'>8</a>\u001b[0m     fo, nx, ny, level \u001b[39m=\u001b[39m fno_open(putnc, gsel, dtni, hasz \u001b[39m=\u001b[39m hasz, dom \u001b[39m=\u001b[39m dom)\n\u001b[1;32m      <a href='vscode-notebook-cell://ssh-remote%2B10.10.4.3/home/opn/script/siam-netcdf-generator/coba/tes/envyosa/intipgrib.ipynb#X15sdnNjb2RlLXJlbW90ZQ%3D%3D?line=8'>9</a>\u001b[0m \u001b[39melse\u001b[39;00m:\n\u001b[1;32m     <a href='vscode-notebook-cell://ssh-remote%2B10.10.4.3/home/opn/script/siam-netcdf-generator/coba/tes/envyosa/intipgrib.ipynb#X15sdnNjb2RlLXJlbW90ZQ%3D%3D?line=9'>10</a>\u001b[0m     gsel \u001b[39m=\u001b[39m grbs\u001b[39m.\u001b[39mselect(shortName \u001b[39m=\u001b[39m param2d[\u001b[39m0\u001b[39m][\u001b[39m0\u001b[39m])\n",
      "\u001b[0;31mNameError\u001b[0m: name 'fno_open' is not defined"
     ]
    }
   ],
   "source": [
    "fo = None\n",
    "ti = 0\n",
    "if not fo:\n",
    "    dtnr = dtni\n",
    "    if len(param3d) != 0:\n",
    "        gsel = grbs.select(shortName = param3d[0][0])\n",
    "        hasz = True\n",
    "        fo, nx, ny, level = fno_open(putnc, gsel, dtni, hasz = hasz, dom = dom)\n",
    "    else:\n",
    "        gsel = grbs.select(shortName = param2d[0][0])\n",
    "        hasz = False\n",
    "        fo, nx, ny, level = fno_open(putnc, gsel, dtni, hasz = hasz, dom = dom)"
   ]
  },
  {
   "cell_type": "code",
   "execution_count": 19,
   "metadata": {},
   "outputs": [],
   "source": [
    "def gendts():\n",
    "    import datetime\n",
    "    dtn = datetime.datetime.utcnow()\n",
    "#    dtn = dtn = datetime.datetime(2018,9,18,17,59,0)\n",
    "    if (dtn.hour >= 3) & (dtn.hour < 9):\n",
    "        cycl = '00'\n",
    "    elif(dtn.hour >= 9) & (dtn.hour <15):\n",
    "        cycl = '6'\n",
    "    elif (dtn.hour >= 15) & (dtn.hour < 21):\n",
    "        cycl = '12'\n",
    "    elif (dtn.hour >= 21) & (dtn.hour < 24):\n",
    "        cycl = '12'\n",
    "    else:\n",
    "        cycl = '18'\n",
    "        dtn = dtn - datetime.timedelta(hours = 12)\n",
    "    \n",
    "    dt = dtn.strftime('%Y%m%d')\n",
    "    \n",
    "    return dt,cycl"
   ]
  },
  {
   "cell_type": "code",
   "execution_count": 20,
   "metadata": {},
   "outputs": [
    {
     "data": {
      "text/plain": [
       "('20231122', '00')"
      ]
     },
     "execution_count": 20,
     "metadata": {},
     "output_type": "execute_result"
    }
   ],
   "source": [
    "gendts()"
   ]
  },
  {
   "cell_type": "code",
   "execution_count": null,
   "metadata": {},
   "outputs": [],
   "source": []
  }
 ],
 "metadata": {
  "kernelspec": {
   "display_name": "BACKEND",
   "language": "python",
   "name": "python3"
  },
  "language_info": {
   "codemirror_mode": {
    "name": "ipython",
    "version": 3
   },
   "file_extension": ".py",
   "mimetype": "text/x-python",
   "name": "python",
   "nbconvert_exporter": "python",
   "pygments_lexer": "ipython3",
   "version": "3.8.12"
  }
 },
 "nbformat": 4,
 "nbformat_minor": 2
}
